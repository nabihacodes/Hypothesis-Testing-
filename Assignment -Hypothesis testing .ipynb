{
 "cells": [
  {
   "cell_type": "code",
   "execution_count": 10,
   "id": "0cccd3f7",
   "metadata": {},
   "outputs": [],
   "source": [
    "from scipy.stats import t"
   ]
  },
  {
   "cell_type": "code",
   "execution_count": 3,
   "id": "20150719",
   "metadata": {},
   "outputs": [],
   "source": [
    "import numpy as np"
   ]
  },
  {
   "cell_type": "code",
   "execution_count": 4,
   "id": "ce64f35b",
   "metadata": {},
   "outputs": [],
   "source": [
    "mu=4000\n",
    "sample_mean=3050\n",
    "std=125\n",
    "n=25"
   ]
  },
  {
   "cell_type": "markdown",
   "id": "eb3d0a8e",
   "metadata": {},
   "source": [
    "before we do the hypothesis testing ,we need to look at the sample size and determine if the test is a ztest or test based on the sample size.looking atthe size of the sample w can say that it is less than 30 so it's a ***ttest*** ."
   ]
  },
  {
   "cell_type": "markdown",
   "id": "bd7155f5",
   "metadata": {},
   "source": [
    "## giving the test of hypothesis\n",
    "•\tH(0)=mu=$4000(: W = $1,000 + $5X)\n",
    "•\tH(1)=mu>$4000\n",
    "here we say that the in alternate hypothesis weekly cost exceeds our operating cost model which is $4000 \n",
    "but null hypothesis says that it is equal to the operating cost."
   ]
  },
  {
   "cell_type": "markdown",
   "id": "49d2a27b",
   "metadata": {},
   "source": [
    "***To calculate the ttest we can do it with the formula (sample mean-mu)/standard error mean***"
   ]
  },
  {
   "cell_type": "code",
   "execution_count": 5,
   "id": "c39c653d",
   "metadata": {},
   "outputs": [],
   "source": [
    "sem=std/np.sqrt(n)"
   ]
  },
  {
   "cell_type": "code",
   "execution_count": 6,
   "id": "13095265",
   "metadata": {},
   "outputs": [],
   "source": [
    "ttest=(sample_mean-mu)/sem"
   ]
  },
  {
   "cell_type": "code",
   "execution_count": 7,
   "id": "93ac976a",
   "metadata": {},
   "outputs": [
    {
     "data": {
      "text/plain": [
       "-38.0"
      ]
     },
     "execution_count": 7,
     "metadata": {},
     "output_type": "execute_result"
    }
   ],
   "source": [
    "ttest"
   ]
  },
  {
   "cell_type": "code",
   "execution_count": 8,
   "id": "67341ae8",
   "metadata": {},
   "outputs": [],
   "source": [
    "df=n-1"
   ]
  },
  {
   "cell_type": "markdown",
   "id": "70415573",
   "metadata": {},
   "source": [
    "now here we have gotten -38 as the t value which is way different from the value we were expecting ,which it should be in the range of -2 to +2,but here we got -38 which indicates the problem with the given sple mean and population meana.we notice that our sample mean is less than the population mean ,which contradicts the null hypothesis and that is why we have the extreme value to the left."
   ]
  },
  {
   "cell_type": "code",
   "execution_count": 42,
   "id": "f4b7c8de",
   "metadata": {},
   "outputs": [],
   "source": [
    "alpha=0.05\n"
   ]
  },
  {
   "cell_type": "code",
   "execution_count": 43,
   "id": "60585c5e",
   "metadata": {},
   "outputs": [],
   "source": [
    "critical_value=t.ppf(1-alpha,df)"
   ]
  },
  {
   "cell_type": "code",
   "execution_count": 44,
   "id": "72dd0fc2",
   "metadata": {},
   "outputs": [
    {
     "data": {
      "text/plain": [
       "1.7108820799094275"
      ]
     },
     "execution_count": 44,
     "metadata": {},
     "output_type": "execute_result"
    }
   ],
   "source": [
    "critical_value\n"
   ]
  },
  {
   "cell_type": "markdown",
   "id": "ef2157bb",
   "metadata": {},
   "source": [
    "## tvalue < critical value,we do not reject HO\n",
    "But this extreme deviation of tvalue being extremely lower than our critical value we cannot confidently say than we do not reject null hypothesis ,therefore we move on to the other tests where we can confidently say that we do not accept/accept null hypothesis.\n",
    "# we move on to other statistical test like pvalue then to reject or accept null hypothesis"
   ]
  },
  {
   "cell_type": "code",
   "execution_count": 9,
   "id": "9328686e",
   "metadata": {},
   "outputs": [],
   "source": [
    "#WE WILL NOW FIND OUT OUR PVALUE"
   ]
  },
  {
   "cell_type": "markdown",
   "id": "90c865de",
   "metadata": {},
   "source": [
    "here before we find out pvalue we need to see if this is a two tailed,left tailed or right tailed test,with our hypothesis statement we can say that it is pointing towards a right tailed test.but python can find that too for  us with the below applied method."
   ]
  },
  {
   "cell_type": "code",
   "execution_count": 19,
   "id": "79e4c8d0",
   "metadata": {},
   "outputs": [],
   "source": [
    "ho=mu<=4000#this is our null hypothesis\n",
    "h1=mu>4000 #this is our alternate hypothesis\n"
   ]
  },
  {
   "cell_type": "code",
   "execution_count": 35,
   "id": "10ae147a",
   "metadata": {},
   "outputs": [
    {
     "name": "stdout",
     "output_type": "stream",
     "text": [
      "P-value: 5.921562161635581e-23\n"
     ]
    }
   ],
   "source": [
    "if tail == h1:\n",
    "    tail = \"right\"\n",
    "elif tail == ho:\n",
    "    tail = \"left\"\n",
    "else:\n",
    "    tail = \"two\"\n",
    "\n",
    "if tail == \"two\":\n",
    "    p_value = t.sf(np.abs(ttest), df) * 2  # for two-tailed test\n",
    "elif tail == \"left\":\n",
    "    p_value = t.cdf(ttest, df)  # for left-tailed test\n",
    "elif tail == \"right\":\n",
    "    p_value = t.sf(ttest, df)  # for right-tailed test\n",
    "else:\n",
    "    raise ValueError(\"Invalid tail argument. Use 'two', 'left', or 'right'.\")\n",
    "\n",
    "print(\"P-value:\", p_value)\n"
   ]
  },
  {
   "cell_type": "code",
   "execution_count": 37,
   "id": "5d9f4900",
   "metadata": {},
   "outputs": [],
   "source": [
    "Pvalue=5.921562161635581e-23"
   ]
  },
  {
   "cell_type": "code",
   "execution_count": 40,
   "id": "a93b8191",
   "metadata": {},
   "outputs": [
    {
     "name": "stdout",
     "output_type": "stream",
     "text": [
      "this pvalue of  5.921562161635581e-23 rejects the null hypothesis and accepts alternate hypothesis as there is a huge statistical difference\n"
     ]
    }
   ],
   "source": [
    "if Pvalue<0.05:\n",
    "    print(\"this pvalue of \",Pvalue,\"rejects the null hypothesis and accepts alternate hypothesis as there is a huge statistical difference\")\n",
    "elif Pvalue>0.05:\n",
    "    print(\"this pvalue of \",Pvalue,\"rejects the alternate hypothesis and accepts null hypothesis as there is no huge statistical difference\")"
   ]
  },
  {
   "cell_type": "markdown",
   "id": "613ec0b1",
   "metadata": {},
   "source": [
    "### with the aove tests we can confidently reject the null hypothesis \n",
    "# CONCLUSION\n",
    "we can confidently say that our population mean is greater than 4000 ,which means that there was a weekly higher operational cost seen as compared to the model provided by the Bombay hospitality Ltd to the rstaurants  ."
   ]
  },
  {
   "cell_type": "code",
   "execution_count": null,
   "id": "6ba5fba1",
   "metadata": {},
   "outputs": [],
   "source": []
  },
  {
   "cell_type": "code",
   "execution_count": null,
   "id": "201d0809",
   "metadata": {},
   "outputs": [],
   "source": []
  },
  {
   "cell_type": "code",
   "execution_count": null,
   "id": "6ae5b5ff",
   "metadata": {},
   "outputs": [],
   "source": []
  }
 ],
 "metadata": {
  "kernelspec": {
   "display_name": "Python 3 (ipykernel)",
   "language": "python",
   "name": "python3"
  },
  "language_info": {
   "codemirror_mode": {
    "name": "ipython",
    "version": 3
   },
   "file_extension": ".py",
   "mimetype": "text/x-python",
   "name": "python",
   "nbconvert_exporter": "python",
   "pygments_lexer": "ipython3",
   "version": "3.11.5"
  }
 },
 "nbformat": 4,
 "nbformat_minor": 5
}
